{
 "cells": [
  {
   "cell_type": "markdown",
   "id": "3e92f8e2",
   "metadata": {},
   "source": [
    "The MovieLens dataset contains 1 million ratings collected from 6,000 users on 4,000 movies. It’s spread across three tables: ratings, user information, and movie information. This has been collected from users of MovieLens in the late 1990s and early 2000s. The data provides movie ratings, movie metadata (genres and year), and demographic data about the users (age, zip code, gender identification, and occupation)."
   ]
  },
  {
   "cell_type": "code",
   "execution_count": null,
   "id": "f672236d",
   "metadata": {},
   "outputs": [],
   "source": [
    "import pandas as pd\n",
    "import numpy as np\n",
    "import matplotlib.pyplot as plt"
   ]
  },
  {
   "cell_type": "code",
   "execution_count": null,
   "id": "424d8cc9",
   "metadata": {},
   "outputs": [],
   "source": [
    "usernames = ['user_id', 'gender', 'age', 'occupation', \"zip\"]\n",
    "users = pd.read_table('movielens/users.dat', sep=\"::\", header=None, names=usernames, \n",
    "                      engine='python')\n",
    "print(users.shape)"
   ]
  },
  {
   "cell_type": "code",
   "execution_count": null,
   "id": "e9b3b1a0",
   "metadata": {},
   "outputs": [],
   "source": [
    "ratingnames = [\"user_id\", \"movie_id\", \"rating\", \"timestamp\"]\n",
    "ratings = pd.read_table(\"movielens/ratings.dat\", sep=\"::\", header=None,\n",
    "                      names=ratingnames, engine=\"python\")\n",
    "ratings[\"rating\"] = pd.to_numeric(ratings[\"rating\"], errors='coerce')\n",
    "print(ratings.shape)"
   ]
  },
  {
   "cell_type": "code",
   "execution_count": null,
   "id": "667e548b",
   "metadata": {},
   "outputs": [],
   "source": [
    "movienames = ['movie_id', \"title\", \"genres\"]\n",
    "movies = pd.read_table(\"movielens/movies.dat\", sep=\"::\", header=None,\n",
    "                      names=movienames, engine=\"python\")\n",
    "print(movies.shape)"
   ]
  },
  {
   "cell_type": "code",
   "execution_count": null,
   "id": "f6e3cc9e",
   "metadata": {},
   "outputs": [],
   "source": [
    "print(\"First 5 rows of users:\")\n",
    "print(users.head())\n",
    "print(\"Last 5 rows of users:\")\n",
    "print(users.tail())"
   ]
  },
  {
   "cell_type": "code",
   "execution_count": null,
   "id": "31e8a930",
   "metadata": {},
   "outputs": [],
   "source": [
    "print(\"First 5 rows of ratings:\")\n",
    "print(ratings.head())\n",
    "print(\"Last 5 rows of ratings:\")\n",
    "print(ratings.tail())"
   ]
  },
  {
   "cell_type": "code",
   "execution_count": null,
   "id": "459f4701",
   "metadata": {},
   "outputs": [],
   "source": [
    "print(\"First 5 rows of movies:\")\n",
    "print(movies.head())\n",
    "print(\"Last 5 rows of movies:\")\n",
    "print(movies.tail())"
   ]
  },
  {
   "cell_type": "code",
   "execution_count": null,
   "id": "a5bb70c9",
   "metadata": {},
   "outputs": [],
   "source": [
    "users.isna().sum()"
   ]
  },
  {
   "cell_type": "code",
   "execution_count": null,
   "id": "3860d044",
   "metadata": {},
   "outputs": [],
   "source": [
    "ratings.isna().sum()"
   ]
  },
  {
   "cell_type": "code",
   "execution_count": null,
   "id": "f685b9ea",
   "metadata": {},
   "outputs": [],
   "source": [
    "movies.isna().sum()"
   ]
  },
  {
   "cell_type": "code",
   "execution_count": null,
   "id": "12e7b561",
   "metadata": {},
   "outputs": [],
   "source": [
    "ratings['timestamp'] = pd.to_datetime(ratings['timestamp'], unit='s')\n",
    "print(ratings)"
   ]
  },
  {
   "cell_type": "code",
   "execution_count": null,
   "id": "c122b2e7",
   "metadata": {},
   "outputs": [],
   "source": [
    "print(\"Total number of users who have logged:\", len(ratings[\"user_id\"].unique()))\n",
    "print(\"Total number of movies logged:\", len(ratings[\"movie_id\"].unique()))\n",
    "print(\"Total number of ratings logged:\", len(ratings))"
   ]
  },
  {
   "cell_type": "code",
   "execution_count": null,
   "id": "36985955",
   "metadata": {},
   "outputs": [],
   "source": [
    "rating_counts = ratings['rating'].value_counts().sort_index()\n",
    "# Create the line plot\n",
    "plt.plot(rating_counts.index, rating_counts.values, marker='o', linestyle='-', color='b')\n",
    "# Annotate each point with its value\n",
    "for i, value in enumerate(rating_counts.values):\n",
    "    plt.text(rating_counts.index[i], value, str(value), ha='left', va='top')\n",
    "plt.xlabel(\"Rating\")\n",
    "plt.ylabel(\"Count\")\n",
    "plt.title(\"Ratings Distribution\")  \n",
    "plt.show()"
   ]
  },
  {
   "cell_type": "code",
   "execution_count": null,
   "id": "cd5cd070",
   "metadata": {},
   "outputs": [],
   "source": [
    "movies['genre_split'] = movies['genres'].str.split('|')\n",
    "# Flatten the list of genres\n",
    "all_genres = movies['genre_split'].explode()\n",
    "\n",
    "# Count the frequency of each genre\n",
    "genre_counts = all_genres.value_counts()\n",
    "\n",
    "# Display the result\n",
    "plt.figure(figsize=(10,6))\n",
    "genre_plot = genre_counts.plot(kind='bar', color='#4A4A4A', edgecolor='black')\n",
    "\n",
    "for bar in genre_plot.patches:\n",
    "    height = bar.get_height()\n",
    "    # Add text above the bar\n",
    "    plt.text(bar.get_x() + bar.get_width() / 2, height, str(height), ha='center', va='bottom')\n",
    "\n",
    "plt.plot(genre_counts.index, genre_counts, color='red', marker='o', label='Line')\n",
    "\n",
    "# Adding labels and title\n",
    "plt.xlabel('Genres')\n",
    "plt.ylabel('Frequency')\n",
    "plt.title('Genre Frequency Count')\n",
    "\n",
    "# Rotate x-axis labels for better readability\n",
    "plt.xticks(rotation=45, ha='right')\n",
    "\n",
    "# Show the plot\n",
    "plt.tight_layout()  # Adjust layout to prevent clipping of labels\n",
    "plt.show()\n"
   ]
  },
  {
   "cell_type": "code",
   "execution_count": null,
   "id": "e6188369",
   "metadata": {},
   "outputs": [],
   "source": [
    "data = pd.merge(pd.merge(ratings, users), movies)\n",
    "print(\"First 5 rows of the merged data:\")\n",
    "print(data.head())\n",
    "print(\"Last 5 rows of the merged data:\")\n",
    "print(data.tail())\n",
    "print(\"Shape of the merged data:\")\n",
    "print(data.shape)"
   ]
  },
  {
   "cell_type": "code",
   "execution_count": null,
   "id": "d3b4cadb",
   "metadata": {},
   "outputs": [],
   "source": [
    "print(\"Log of user with id 1:\")\n",
    "data.loc[data['user_id'] == 1, ['title', 'rating']]"
   ]
  },
  {
   "cell_type": "code",
   "execution_count": null,
   "id": "16d613bb",
   "metadata": {},
   "outputs": [],
   "source": [
    "print(\"Median rating:\", data[\"rating\"].median())\n",
    "print(\"Most frequent rating:\", data[\"rating\"].mode())\n",
    "print(\"Deviation of ratings:\", data[\"rating\"].std())"
   ]
  },
  {
   "cell_type": "code",
   "execution_count": null,
   "id": "973c24bf",
   "metadata": {},
   "outputs": [],
   "source": [
    "sorted_data = data.sort_values(\"rating\", ascending=False)\n",
    "print(\"Top 25 movies:\")\n",
    "print(sorted_data[['title','rating','genre_split']].head(25))"
   ]
  },
  {
   "cell_type": "code",
   "execution_count": null,
   "id": "acce5481",
   "metadata": {},
   "outputs": [],
   "source": [
    "print(\"Bottom 25 movies:\")\n",
    "print(sorted_data[['title','rating','genre_split']].tail(25))"
   ]
  },
  {
   "cell_type": "code",
   "execution_count": null,
   "id": "f614c4da",
   "metadata": {},
   "outputs": [],
   "source": [
    "subset = data[['title', 'rating', 'gender']]\n",
    "subset.head()"
   ]
  },
  {
   "cell_type": "code",
   "execution_count": null,
   "id": "7d6c71ac",
   "metadata": {},
   "outputs": [],
   "source": [
    "mean_ratings = subset.groupby(['title','gender'])['rating'].mean().unstack()\n",
    "print(mean_ratings)"
   ]
  },
  {
   "cell_type": "code",
   "execution_count": null,
   "id": "efc5075e",
   "metadata": {},
   "outputs": [],
   "source": [
    "ratings_by_title = data.groupby('title').size()\n",
    "ratings_by_title = ratings_by_title.sort_values(ascending=False)\n",
    "ratings_by_title.head(10)"
   ]
  },
  {
   "cell_type": "code",
   "execution_count": null,
   "id": "ac5abfeb",
   "metadata": {},
   "outputs": [],
   "source": [
    "active_titles = ratings_by_title.index[ratings_by_title >= 250]\n",
    "active_titles"
   ]
  },
  {
   "cell_type": "code",
   "execution_count": null,
   "id": "7fe62933",
   "metadata": {},
   "outputs": [],
   "source": [
    "mean_ratings = mean_ratings.loc[active_titles]\n",
    "mean_ratings"
   ]
  },
  {
   "cell_type": "code",
   "execution_count": null,
   "id": "5d397ae5",
   "metadata": {},
   "outputs": [],
   "source": [
    "len(mean_ratings.loc[mean_ratings['F'].isnull(), :].index.unique())"
   ]
  },
  {
   "cell_type": "code",
   "execution_count": null,
   "id": "2262b76b",
   "metadata": {},
   "outputs": [],
   "source": [
    "mean_ratings.sort_values(by='F', ascending=False).head(10)"
   ]
  },
  {
   "cell_type": "code",
   "execution_count": null,
   "id": "9efc68ff",
   "metadata": {},
   "outputs": [],
   "source": [
    "mean_ratings.sort_values(by='M', ascending=False).head(10)"
   ]
  },
  {
   "cell_type": "code",
   "execution_count": null,
   "id": "29a079b0",
   "metadata": {},
   "outputs": [],
   "source": [
    "mean_ratings_male = mean_ratings.sort_values(by='M', ascending=False).head(10)\n",
    "ratings_plot_by_male = mean_ratings_male.plot(kind='bar', figsize=(20, 10))\n",
    "plt.xticks(rotation=45, ha='right')\n",
    "plt.xlabel('Movie Title')\n",
    "plt.ylabel('Average Rating')\n",
    "plt.title(\"Top 10 Movies by average male rating\")\n",
    "for bar in ratings_plot_by_male.patches:\n",
    "    height = bar.get_height()\n",
    "    # Add text above the bar\n",
    "    plt.text(\n",
    "        bar.get_x() + bar.get_width() / 2,  # X position (center of bar)\n",
    "        height,  # Y position (bar height)\n",
    "        f'{height:.2f}',  # Format height to 2 decimal places\n",
    "        ha='center', va='bottom'  # Align text\n",
    "    )"
   ]
  },
  {
   "cell_type": "code",
   "execution_count": null,
   "id": "5aedc43e",
   "metadata": {},
   "outputs": [],
   "source": [
    "mean_ratings_female = mean_ratings.sort_values(by='F', ascending=False).head(10)\n",
    "ratings_plot_by_female = mean_ratings_female.plot(kind='bar', figsize=(20, 10))\n",
    "plt.xticks(rotation=45, ha='right')\n",
    "plt.xlabel('Movie Title')\n",
    "plt.ylabel('Average Rating')\n",
    "plt.title(\"Top 10 Movies by average female rating\")\n",
    "for bar in ratings_plot_by_female.patches:\n",
    "    height = bar.get_height()\n",
    "    # Add text above the bar\n",
    "    plt.text(\n",
    "        bar.get_x() + bar.get_width() / 2,  # X position (center of bar)\n",
    "        height,  # Y position (bar height)\n",
    "        f'{height:.2f}',  # Format height to 2 decimal places\n",
    "        ha='center', va='bottom'  # Align text\n",
    "    )"
   ]
  },
  {
   "cell_type": "code",
   "execution_count": null,
   "id": "4290ed6d",
   "metadata": {},
   "outputs": [],
   "source": [
    "mean_ratings['diff'] = mean_ratings['M'] - mean_ratings['F']\n",
    "sorted_diff = mean_ratings.sort_values(by='diff')\n",
    "print(sorted_diff)"
   ]
  },
  {
   "cell_type": "code",
   "execution_count": null,
   "id": "ac629a33",
   "metadata": {},
   "outputs": [],
   "source": [
    "sorted_diff[::-1][:10]"
   ]
  },
  {
   "cell_type": "code",
   "execution_count": null,
   "id": "0de1902b",
   "metadata": {},
   "outputs": [],
   "source": [
    "mean_ratings_diff = mean_ratings.sort_values(by='diff', ascending=False).head(10)\n",
    "ratings_plot_by_diff = mean_ratings_diff.plot(kind='bar', figsize=(20, 10))\n",
    "plt.xticks(rotation=45, ha='right')\n",
    "plt.xlabel('Movie Title')\n",
    "plt.ylabel('Average Rating')\n",
    "plt.title(\"Top 10 Movies by average difference in rating\")\n",
    "for bar in ratings_plot_by_diff.patches:\n",
    "    height = bar.get_height()\n",
    "    # Add text above the bar\n",
    "    plt.text(\n",
    "        bar.get_x() + bar.get_width() / 2,  # X position (center of bar)\n",
    "        height,  # Y position (bar height)\n",
    "        f'{height:.2f}',  # Format height to 2 decimal places\n",
    "        ha='center', va='bottom'  # Align text\n",
    "    )"
   ]
  },
  {
   "cell_type": "markdown",
   "id": "9472c9cc",
   "metadata": {},
   "source": [
    "The disagreement between user ratings can be measured by calculating the standard deviation of the ratings"
   ]
  },
  {
   "cell_type": "code",
   "execution_count": null,
   "id": "3370c298",
   "metadata": {},
   "outputs": [],
   "source": [
    "rating_std_by_title = data.groupby(\"title\")['rating'].std()\n",
    "rating_std_by_title = rating_std_by_title.loc[active_titles]\n",
    "rating_std_by_title = rating_std_by_title.sort_values(ascending=False)\n",
    "rating_std_by_title.head(10)"
   ]
  }
 ],
 "metadata": {
  "kernelspec": {
   "display_name": ".venv",
   "language": "python",
   "name": "python3"
  },
  "language_info": {
   "codemirror_mode": {
    "name": "ipython",
    "version": 3
   },
   "file_extension": ".py",
   "mimetype": "text/x-python",
   "name": "python",
   "nbconvert_exporter": "python",
   "pygments_lexer": "ipython3",
   "version": "3.13.1"
  }
 },
 "nbformat": 4,
 "nbformat_minor": 5
}
